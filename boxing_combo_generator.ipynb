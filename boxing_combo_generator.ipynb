{
 "cells": [
  {
   "cell_type": "code",
   "execution_count": 3,
   "id": "eecc278a",
   "metadata": {},
   "outputs": [
    {
     "name": "stdout",
     "output_type": "stream",
     "text": [
      "Enter the number of elements to choose: 5\n",
      "Chosen elements: [3, 2, 2, 6, 1]\n"
     ]
    }
   ],
   "source": [
    "#generates a random combo of length \"input integer\"\n",
    "#punches 1 to 10\n",
    "#w=weave, s=slip, p=pull, SB=StepBack, B=block\n",
    "import random\n",
    "def choose_elements(x):\n",
    "    elements = [1, 2, 3, 4, 5, 6, 7, 8, 9, 10, 'W', 'S', 'P', 'B','SB']\n",
    "    \n",
    "    # Randomly choose x elements with repetition allowed\n",
    "    chosen_elements = random.choices(elements, k=x)\n",
    "    return chosen_elements\n",
    "\n",
    "def main():\n",
    "    try:\n",
    "        # Get user input for the number of elements to choose\n",
    "        x = int(input(\"Enter the number of elements to choose: \"))\n",
    "        \n",
    "        # Check if x is non-negative\n",
    "        if x < 0:\n",
    "            raise ValueError(\"Please enter a non-negative integer.\")\n",
    "        \n",
    "        # Call the function to choose x elements\n",
    "        result = choose_elements(x)\n",
    "        \n",
    "        # Display the chosen elements\n",
    "        print(f\"Chosen elements: {result}\")\n",
    "    \n",
    "    except ValueError as e:\n",
    "        print(f\"Error: {e}\")\n",
    "    \n",
    "if __name__ == \"__main__\":\n",
    "    main()"
   ]
  },
  {
   "cell_type": "code",
   "execution_count": null,
   "id": "79f2c7f4",
   "metadata": {},
   "outputs": [],
   "source": []
  }
 ],
 "metadata": {
  "kernelspec": {
   "display_name": "Python 3 (ipykernel)",
   "language": "python",
   "name": "python3"
  },
  "language_info": {
   "codemirror_mode": {
    "name": "ipython",
    "version": 3
   },
   "file_extension": ".py",
   "mimetype": "text/x-python",
   "name": "python",
   "nbconvert_exporter": "python",
   "pygments_lexer": "ipython3",
   "version": "3.9.13"
  }
 },
 "nbformat": 4,
 "nbformat_minor": 5
}
